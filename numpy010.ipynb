{
 "cells": [
  {
   "cell_type": "code",
   "execution_count": 3,
   "metadata": {},
   "outputs": [
    {
     "name": "stdout",
     "output_type": "stream",
     "text": [
      "[0.1212 0.234  0.112 ]\n",
      "[0.332   0.4556  0.47849]\n",
      "[0.1324 0.456  0.5543]\n"
     ]
    }
   ],
   "source": [
    "import numpy as np\n",
    "\n",
    "val1, val2, val3 = np.loadtxt('dados.txt', skiprows=1, unpack=True)\n",
    "\n",
    "print(val1)\n",
    "print(val2)\n",
    "print(val3)\n"
   ]
  },
  {
   "cell_type": "code",
   "execution_count": 11,
   "metadata": {},
   "outputs": [
    {
     "name": "stdout",
     "output_type": "stream",
     "text": [
      "[[0.1212  0.332   0.1324 ]\n",
      " [0.234   0.4556  0.456  ]\n",
      " [0.112   0.47849 0.5543 ]]\n"
     ]
    }
   ],
   "source": [
    "my_array = np.genfromtxt('dados.txt', skip_header=1, filling_values=1000)\n",
    "print(my_array)"
   ]
  },
  {
   "cell_type": "code",
   "execution_count": null,
   "metadata": {},
   "outputs": [],
   "source": []
  },
  {
   "cell_type": "code",
   "execution_count": null,
   "metadata": {},
   "outputs": [],
   "source": []
  }
 ],
 "metadata": {
  "kernelspec": {
   "display_name": "Python 3",
   "language": "python",
   "name": "python3"
  },
  "language_info": {
   "codemirror_mode": {
    "name": "ipython",
    "version": 3
   },
   "file_extension": ".py",
   "mimetype": "text/x-python",
   "name": "python",
   "nbconvert_exporter": "python",
   "pygments_lexer": "ipython3",
   "version": "3.6.4"
  }
 },
 "nbformat": 4,
 "nbformat_minor": 2
}
